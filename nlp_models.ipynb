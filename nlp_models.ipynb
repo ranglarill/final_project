{
 "cells": [
  {
   "cell_type": "markdown",
   "metadata": {},
   "source": [
    "# Natural Language Processing to Predict Hit Songs by Lyrics"
   ]
  },
  {
   "cell_type": "code",
   "execution_count": null,
   "metadata": {},
   "outputs": [],
   "source": [
    "# Import dependencies\n",
    "import pandas as pd\n",
    "from matplotlib import pyplot as plt\n",
    "import numpy as np"
   ]
  },
  {
   "cell_type": "code",
   "execution_count": 3,
   "metadata": {},
   "outputs": [
    {
     "data": {
      "text/html": [
       "<div>\n",
       "<style scoped>\n",
       "    .dataframe tbody tr th:only-of-type {\n",
       "        vertical-align: middle;\n",
       "    }\n",
       "\n",
       "    .dataframe tbody tr th {\n",
       "        vertical-align: top;\n",
       "    }\n",
       "\n",
       "    .dataframe thead th {\n",
       "        text-align: right;\n",
       "    }\n",
       "</style>\n",
       "<table border=\"1\" class=\"dataframe\">\n",
       "  <thead>\n",
       "    <tr style=\"text-align: right;\">\n",
       "      <th></th>\n",
       "      <th>Unnamed: 0</th>\n",
       "      <th>Spotify_track_id</th>\n",
       "      <th>artist_x</th>\n",
       "      <th>song_x</th>\n",
       "      <th>ID</th>\n",
       "      <th>text</th>\n",
       "      <th>peak_position</th>\n",
       "      <th>hit</th>\n",
       "      <th>hit_value</th>\n",
       "    </tr>\n",
       "  </thead>\n",
       "  <tbody>\n",
       "    <tr>\n",
       "      <th>0</th>\n",
       "      <td>0</td>\n",
       "      <td>005lwxGU1tms6HGELIcUv9</td>\n",
       "      <td>Katy Perry</td>\n",
       "      <td>I Kissed A Girl</td>\n",
       "      <td>I Kissed A GirlKaty Perry</td>\n",
       "      <td>This was never the way I planned Not my intent...</td>\n",
       "      <td>1.0</td>\n",
       "      <td>Yes</td>\n",
       "      <td>1</td>\n",
       "    </tr>\n",
       "    <tr>\n",
       "      <th>1</th>\n",
       "      <td>1</td>\n",
       "      <td>745H5CctFr12Mo7cqa1BMH</td>\n",
       "      <td>The Temptations</td>\n",
       "      <td>My Girl</td>\n",
       "      <td>My GirlThe Temptations</td>\n",
       "      <td>I've got sunshine on a cloudy day When it's co...</td>\n",
       "      <td>1.0</td>\n",
       "      <td>Yes</td>\n",
       "      <td>1</td>\n",
       "    </tr>\n",
       "    <tr>\n",
       "      <th>2</th>\n",
       "      <td>2</td>\n",
       "      <td>4w2DQnTAbzmduTv0zCT5QD</td>\n",
       "      <td>Olivia Newton-John</td>\n",
       "      <td>I Honestly Love You</td>\n",
       "      <td>I Honestly Love YouOlivia Newton-John</td>\n",
       "      <td>Maybe I hang around here A little more than I ...</td>\n",
       "      <td>1.0</td>\n",
       "      <td>Yes</td>\n",
       "      <td>1</td>\n",
       "    </tr>\n",
       "    <tr>\n",
       "      <th>3</th>\n",
       "      <td>3</td>\n",
       "      <td>3CKCZ9pfwAfoMZlMncA1Nc</td>\n",
       "      <td>Adele</td>\n",
       "      <td>Set Fire To The Rain</td>\n",
       "      <td>Set Fire To The RainAdele</td>\n",
       "      <td>I let it fall, my heart, And as it fell you ro...</td>\n",
       "      <td>1.0</td>\n",
       "      <td>Yes</td>\n",
       "      <td>1</td>\n",
       "    </tr>\n",
       "    <tr>\n",
       "      <th>4</th>\n",
       "      <td>4</td>\n",
       "      <td>74jZhGv0fdLaf9q8AZZ15k</td>\n",
       "      <td>Carpenters</td>\n",
       "      <td>Please Mr. Postman</td>\n",
       "      <td>Please Mr. PostmanCarpenters</td>\n",
       "      <td>(Stop) Oh yes, wait a minute Mister Postman (W...</td>\n",
       "      <td>1.0</td>\n",
       "      <td>Yes</td>\n",
       "      <td>1</td>\n",
       "    </tr>\n",
       "  </tbody>\n",
       "</table>\n",
       "</div>"
      ],
      "text/plain": [
       "   Unnamed: 0        Spotify_track_id            artist_x  \\\n",
       "0           0  005lwxGU1tms6HGELIcUv9          Katy Perry   \n",
       "1           1  745H5CctFr12Mo7cqa1BMH     The Temptations   \n",
       "2           2  4w2DQnTAbzmduTv0zCT5QD  Olivia Newton-John   \n",
       "3           3  3CKCZ9pfwAfoMZlMncA1Nc               Adele   \n",
       "4           4  74jZhGv0fdLaf9q8AZZ15k          Carpenters   \n",
       "\n",
       "                 song_x                                     ID  \\\n",
       "0       I Kissed A Girl              I Kissed A GirlKaty Perry   \n",
       "1               My Girl                 My GirlThe Temptations   \n",
       "2   I Honestly Love You  I Honestly Love YouOlivia Newton-John   \n",
       "3  Set Fire To The Rain              Set Fire To The RainAdele   \n",
       "4    Please Mr. Postman           Please Mr. PostmanCarpenters   \n",
       "\n",
       "                                                text  peak_position  hit  \\\n",
       "0  This was never the way I planned Not my intent...            1.0  Yes   \n",
       "1  I've got sunshine on a cloudy day When it's co...            1.0  Yes   \n",
       "2  Maybe I hang around here A little more than I ...            1.0  Yes   \n",
       "3  I let it fall, my heart, And as it fell you ro...            1.0  Yes   \n",
       "4  (Stop) Oh yes, wait a minute Mister Postman (W...            1.0  Yes   \n",
       "\n",
       "   hit_value  \n",
       "0          1  \n",
       "1          1  \n",
       "2          1  \n",
       "3          1  \n",
       "4          1  "
      ]
     },
     "execution_count": 3,
     "metadata": {},
     "output_type": "execute_result"
    }
   ],
   "source": [
    "# Read in hit csv\n",
    "\n",
    "data_df = pd.read_csv(\"hits.csv\")\n",
    "data_df.head()"
   ]
  },
  {
   "cell_type": "code",
   "execution_count": 4,
   "metadata": {},
   "outputs": [
    {
     "data": {
      "text/html": [
       "<div>\n",
       "<style scoped>\n",
       "    .dataframe tbody tr th:only-of-type {\n",
       "        vertical-align: middle;\n",
       "    }\n",
       "\n",
       "    .dataframe tbody tr th {\n",
       "        vertical-align: top;\n",
       "    }\n",
       "\n",
       "    .dataframe thead th {\n",
       "        text-align: right;\n",
       "    }\n",
       "</style>\n",
       "<table border=\"1\" class=\"dataframe\">\n",
       "  <thead>\n",
       "    <tr style=\"text-align: right;\">\n",
       "      <th></th>\n",
       "      <th>artist</th>\n",
       "      <th>song</th>\n",
       "      <th>text</th>\n",
       "      <th>peak_position</th>\n",
       "      <th>hit</th>\n",
       "      <th>hit_value</th>\n",
       "    </tr>\n",
       "  </thead>\n",
       "  <tbody>\n",
       "    <tr>\n",
       "      <th>0</th>\n",
       "      <td>Katy Perry</td>\n",
       "      <td>I Kissed A Girl</td>\n",
       "      <td>This was never the way I planned Not my intent...</td>\n",
       "      <td>1.0</td>\n",
       "      <td>Yes</td>\n",
       "      <td>1</td>\n",
       "    </tr>\n",
       "    <tr>\n",
       "      <th>1</th>\n",
       "      <td>The Temptations</td>\n",
       "      <td>My Girl</td>\n",
       "      <td>I've got sunshine on a cloudy day When it's co...</td>\n",
       "      <td>1.0</td>\n",
       "      <td>Yes</td>\n",
       "      <td>1</td>\n",
       "    </tr>\n",
       "    <tr>\n",
       "      <th>2</th>\n",
       "      <td>Olivia Newton-John</td>\n",
       "      <td>I Honestly Love You</td>\n",
       "      <td>Maybe I hang around here A little more than I ...</td>\n",
       "      <td>1.0</td>\n",
       "      <td>Yes</td>\n",
       "      <td>1</td>\n",
       "    </tr>\n",
       "    <tr>\n",
       "      <th>3</th>\n",
       "      <td>Adele</td>\n",
       "      <td>Set Fire To The Rain</td>\n",
       "      <td>I let it fall, my heart, And as it fell you ro...</td>\n",
       "      <td>1.0</td>\n",
       "      <td>Yes</td>\n",
       "      <td>1</td>\n",
       "    </tr>\n",
       "    <tr>\n",
       "      <th>4</th>\n",
       "      <td>Carpenters</td>\n",
       "      <td>Please Mr. Postman</td>\n",
       "      <td>(Stop) Oh yes, wait a minute Mister Postman (W...</td>\n",
       "      <td>1.0</td>\n",
       "      <td>Yes</td>\n",
       "      <td>1</td>\n",
       "    </tr>\n",
       "  </tbody>\n",
       "</table>\n",
       "</div>"
      ],
      "text/plain": [
       "               artist                  song  \\\n",
       "0          Katy Perry       I Kissed A Girl   \n",
       "1     The Temptations               My Girl   \n",
       "2  Olivia Newton-John   I Honestly Love You   \n",
       "3               Adele  Set Fire To The Rain   \n",
       "4          Carpenters    Please Mr. Postman   \n",
       "\n",
       "                                                text  peak_position  hit  \\\n",
       "0  This was never the way I planned Not my intent...            1.0  Yes   \n",
       "1  I've got sunshine on a cloudy day When it's co...            1.0  Yes   \n",
       "2  Maybe I hang around here A little more than I ...            1.0  Yes   \n",
       "3  I let it fall, my heart, And as it fell you ro...            1.0  Yes   \n",
       "4  (Stop) Oh yes, wait a minute Mister Postman (W...            1.0  Yes   \n",
       "\n",
       "   hit_value  \n",
       "0          1  \n",
       "1          1  \n",
       "2          1  \n",
       "3          1  \n",
       "4          1  "
      ]
     },
     "execution_count": 4,
     "metadata": {},
     "output_type": "execute_result"
    }
   ],
   "source": [
    "# Remove unecessary columns and rename remaining columns\n",
    "\n",
    "data_df = data_df[[\"artist_x\", \"song_x\", \"text\", \"peak_position\", \"hit\", \"hit_value\"]]\n",
    "data_df = data_df.rename(columns={\"artist_x\": \"artist\", \"song_x\": \"song\"})\n",
    "data_df.head()"
   ]
  },
  {
   "cell_type": "code",
   "execution_count": 5,
   "metadata": {},
   "outputs": [
    {
     "name": "stdout",
     "output_type": "stream",
     "text": [
      "(5462,)\n",
      "(5462,)\n"
     ]
    }
   ],
   "source": [
    "# Set X and y for Preprocessing\n",
    "\n",
    "X = data_df.text\n",
    "y = data_df.hit\n",
    "\n",
    "print(X.shape)\n",
    "print(y.shape)"
   ]
  },
  {
   "cell_type": "code",
   "execution_count": 6,
   "metadata": {},
   "outputs": [],
   "source": [
    "# Split data into training and testing sets\n",
    "\n",
    "from sklearn.model_selection import train_test_split\n",
    "\n",
    "X_train, X_test, y_train, y_test = train_test_split(X, y, random_state=1)"
   ]
  },
  {
   "cell_type": "markdown",
   "metadata": {},
   "source": [
    "### Count Vectorizer converts each set of lyrics to a matrix of token counts"
   ]
  },
  {
   "cell_type": "code",
   "execution_count": null,
   "metadata": {},
   "outputs": [],
   "source": [
    "from sklearn.feature_extraction.text import CountVectorizer\n",
    "\n",
    "# Count number of unique words in training data using CountVectorizer\n",
    "count_vect = CountVectorizer(stop_words=\"english\")\n",
    "X_train_counts = count_vect.fit_transform(X_train)\n",
    "#X_train_counts.shape\n",
    "\n",
    "# Count number of unique words in testing data\n",
    "X_test_counts = count_vect.transform(X_test)\n",
    "#X_test_counts.shape"
   ]
  },
  {
   "cell_type": "markdown",
   "metadata": {},
   "source": [
    "### Term Frequency - Inverse Document Frequency\n",
    "    * Term Frequency is the number of times each word is found in each set of lyrics\n",
    "    * Inverse Document Frequency reduces weighting for common words found throughout every set of lyrics"
   ]
  },
  {
   "cell_type": "code",
   "execution_count": 8,
   "metadata": {},
   "outputs": [],
   "source": [
    "from sklearn.feature_extraction.text import TfidfTransformer\n",
    "\n",
    "# Reduce weighting for common words using TF-IDF in training data\n",
    "tfidf_transformer = TfidfTransformer()\n",
    "X_train_tfidf = tfidf_transformer.fit_transform(X_train_counts)\n",
    "#X_train_tfidf.shape\n",
    "\n",
    "# Reduce weighting for common words using TF-IDF in testing data\n",
    "X_test_tfidf = tfidf_transformer.transform(X_test_counts)\n",
    "#X_test_tfidf.shape"
   ]
  },
  {
   "cell_type": "markdown",
   "metadata": {},
   "source": [
    "### Naive Bayes Classifer analyzes text data assuming each feature is independent of every other feature"
   ]
  },
  {
   "cell_type": "code",
   "execution_count": 9,
   "metadata": {},
   "outputs": [],
   "source": [
    "from sklearn.naive_bayes import MultinomialNB\n",
    "\n",
    "# Run Naive Bayes algorithm using training data\n",
    "nb = MultinomialNB().fit(X_train_tfidf, y_train)"
   ]
  },
  {
   "cell_type": "code",
   "execution_count": 10,
   "metadata": {},
   "outputs": [],
   "source": [
    "# Make predictions using test data\n",
    "nb_predicted = nb.predict(X_test_tfidf)"
   ]
  },
  {
   "cell_type": "code",
   "execution_count": 11,
   "metadata": {},
   "outputs": [
    {
     "name": "stdout",
     "output_type": "stream",
     "text": [
      "Accuracy of Naive Bayes model: 0.5980966325036603\n"
     ]
    }
   ],
   "source": [
    "# Show r2 score\n",
    "nb_score = nb.score(X_test_tfidf, y_test)\n",
    "print(f\"Accuracy of Naive Bayes model: {nb_score}\")"
   ]
  },
  {
   "cell_type": "markdown",
   "metadata": {},
   "source": [
    "### Random Forest analyzed lyrics data using groups of decision trees"
   ]
  },
  {
   "cell_type": "code",
   "execution_count": 12,
   "metadata": {},
   "outputs": [],
   "source": [
    "from sklearn.ensemble import RandomForestClassifier\n",
    "\n",
    "# Run Random Forest algorithm with training data\n",
    "rf = RandomForestClassifier(n_estimators=100, random_state=42)\n",
    "rf = rf.fit(X_train_tfidf, y_train)\n",
    "\n",
    "# Make predictions with test data\n",
    "rf_predicted = rf.predict(X_test_tfidf)"
   ]
  },
  {
   "cell_type": "code",
   "execution_count": 13,
   "metadata": {},
   "outputs": [
    {
     "name": "stdout",
     "output_type": "stream",
     "text": [
      "Accuracy of Random Forest model: 0.6193265007320644\n"
     ]
    }
   ],
   "source": [
    "# Show r2 score\n",
    "rf_score = rf.score(X_test_tfidf, y_test)\n",
    "print(f\"Accuracy of Random Forest model: {rf_score}\")"
   ]
  },
  {
   "cell_type": "markdown",
   "metadata": {},
   "source": [
    "### Support Vector Machine groups all data points on a plane"
   ]
  },
  {
   "cell_type": "code",
   "execution_count": 14,
   "metadata": {},
   "outputs": [],
   "source": [
    "from sklearn.linear_model import SGDClassifier\n",
    "\n",
    "# Run Support Vector Machines algorithm\n",
    "svm = SGDClassifier()\n",
    "svm = svm.fit(X_train_tfidf, y_train)\n",
    "\n",
    "# Make predictions\n",
    "svm_predicted = svm.predict(X_test_tfidf)"
   ]
  },
  {
   "cell_type": "code",
   "execution_count": 15,
   "metadata": {},
   "outputs": [
    {
     "name": "stdout",
     "output_type": "stream",
     "text": [
      "Accuracy of Support Vector Machines model: 0.5805270863836017\n"
     ]
    }
   ],
   "source": [
    "# Show r2 score\n",
    "svm_score = svm.score(X_test_tfidf, y_test)\n",
    "print(f\"Accuracy of Support Vector Machines model: {svm_score}\")"
   ]
  },
  {
   "cell_type": "markdown",
   "metadata": {},
   "source": [
    "# Classification reports for all three models\n",
    "\n",
    "* Precision is true positives / (true positives + false positives). This measures the model's ability to not predict false positives.\n",
    "    * Naive Bayes and Random Forest both have the highest precision with a score of 0.62\n",
    "    \n",
    "\n",
    "* Recall is true positives / (true positives + false negatives). This measures the model's ability to find all positive samples.\n",
    "    * Random Forest has the highest recall score of 0.62\n",
    "    \n",
    "\n",
    "* f1-score is the average of recall and precision.\n",
    "    * Precision and recall are equal for Random Forest and Support Vector Machines, so f1 is also the same.\n",
    "    \n",
    "\n",
    "* Support is the number of each label (Yes/No) in the test data\n",
    "\n",
    "\n",
    "* With an average f1-score of 0.62, Random Forest is the most accurate of the three models."
   ]
  },
  {
   "cell_type": "code",
   "execution_count": 16,
   "metadata": {},
   "outputs": [
    {
     "name": "stdout",
     "output_type": "stream",
     "text": [
      "Classification Reports for Natural Language Processing Models \n",
      "\n",
      "Naive Bayes Classification Report: \n",
      "              precision    recall  f1-score   support\n",
      "\n",
      "         Yes       0.66      0.37      0.47       668\n",
      "          No       0.58      0.82      0.68       698\n",
      "\n",
      "    accuracy                           0.60      1366\n",
      "   macro avg       0.62      0.59      0.57      1366\n",
      "weighted avg       0.62      0.60      0.58      1366\n",
      "\n",
      "Random Forest Classification Report: \n",
      "              precision    recall  f1-score   support\n",
      "\n",
      "         Yes       0.62      0.57      0.59       668\n",
      "          No       0.62      0.67      0.64       698\n",
      "\n",
      "    accuracy                           0.62      1366\n",
      "   macro avg       0.62      0.62      0.62      1366\n",
      "weighted avg       0.62      0.62      0.62      1366\n",
      "\n",
      "Support Vector Machines Classification Report: \n",
      "              precision    recall  f1-score   support\n",
      "\n",
      "         Yes       0.58      0.53      0.55       668\n",
      "          No       0.58      0.63      0.61       698\n",
      "\n",
      "    accuracy                           0.58      1366\n",
      "   macro avg       0.58      0.58      0.58      1366\n",
      "weighted avg       0.58      0.58      0.58      1366\n",
      "\n"
     ]
    }
   ],
   "source": [
    " # Calculate classification report for each model\n",
    "from sklearn.metrics import classification_report\n",
    "\n",
    "print(\"Classification Reports for Natural Language Processing Models \\n\")\n",
    "print(\"Naive Bayes Classification Report: \\n\" + classification_report(y_test, nb_predicted,\n",
    "                            target_names=[\"Yes\", \"No\"]))\n",
    "\n",
    "print(\"Random Forest Classification Report: \\n\" + classification_report(y_test, rf_predicted,\n",
    "                            target_names=[\"Yes\", \"No\"]))\n",
    "\n",
    "print(\"Support Vector Machines Classification Report: \\n\" + classification_report(y_test, svm_predicted,\n",
    "                            target_names=[\"Yes\", \"No\"]))"
   ]
  },
  {
   "cell_type": "markdown",
   "metadata": {},
   "source": [
    "# Confusion Matrices for all three models\n",
    "\n",
    "* Confusion matrices show the number of true and false positives and negatives in each model\n",
    "\n",
    "* Top left and bottom right values are the correct predictions, top right and bottom left are incorrect\n",
    "\n",
    "### Correct and incorrect predictions for each model\n",
    "\n",
    "* Naive Bayes: 817 Correct predictions (246 tp, 571 tn), 549 Incorrect predictions (422 fp, 127 fn)\n",
    "* Random Forest: 846 Correct predictions (380 tp, 466 tn), 520 Incorrect predictions (288 fp, 232 fn)\n",
    "* Support Vector Machines: 797 Correct predictions (352 tp, 441 tn), 569 Incorrect predictions (316 fp, 257 fn)\n",
    "\n",
    "### Conclusions\n",
    "\n",
    "* As stated above, Random Forest was the most accurate of the three models with and f1-score of 0.62\n",
    "\n",
    "* Random Forest correctly predicted the highest number of hit songs correctly and had the least false positives. However, it was not the best model at predicting songs that did not make the Billboard Hot 100.\n",
    "\n",
    "* Naive Bayes was best at predicting non-hit songs with a total of 571 true negatives correctly predicted, 105 more than the next highest model (Random Forest). It also had the lowest number of false negatives with only 127.\n",
    "\n",
    "* However, Naive Bayes also predicted a much higher amount of false positives with 422, 109 more than the next highest model (SVM)"
   ]
  },
  {
   "cell_type": "code",
   "execution_count": 17,
   "metadata": {},
   "outputs": [
    {
     "name": "stdout",
     "output_type": "stream",
     "text": [
      "Confusion Matrices for Natural Language Processing Models \n",
      "\n",
      "Matrix layout: true positive | false positive \n",
      "              false negative | true negative\n",
      "--------------------------------------------------\n",
      "Naive Bayes Confusion Matrix:\n",
      "[[246 422]\n",
      " [127 571]]\n",
      "\n",
      "Random Forest Confusion Matrix:\n",
      "[[380 288]\n",
      " [232 466]]\n",
      "\n",
      "Support Vector Machines Confusion Matrix:\n",
      "[[352 316]\n",
      " [257 441]]\n"
     ]
    }
   ],
   "source": [
    "from sklearn.metrics import confusion_matrix\n",
    "\n",
    "# Print a confusiion matrix for each model\n",
    "\n",
    "nb_confusion_matrix = confusion_matrix(y_test, nb_predicted)\n",
    "rf_confusion_matrix = confusion_matrix(y_test, rf_predicted)\n",
    "svm_confusion_matrix = confusion_matrix(y_test, svm_predicted)\n",
    "\n",
    "print(\"Confusion Matrices for Natural Language Processing Models \\n\")\n",
    "print(\"Matrix layout: true positive | false positive \\n              false negative | true negative\")\n",
    "print(\"-\" * 50)\n",
    "\n",
    "print(\"Naive Bayes Confusion Matrix:\")\n",
    "print(nb_confusion_matrix)\n",
    "print(\"\\nRandom Forest Confusion Matrix:\")\n",
    "print(rf_confusion_matrix)\n",
    "print(\"\\nSupport Vector Machines Confusion Matrix:\")\n",
    "print(svm_confusion_matrix)\n"
   ]
  },
  {
   "cell_type": "markdown",
   "metadata": {},
   "source": [
    "# Naive Bayes Confusion Matrix Heatmap"
   ]
  },
  {
   "cell_type": "code",
   "execution_count": 38,
   "metadata": {},
   "outputs": [
    {
     "data": {
      "image/png": "[encoded data removed]",
      "text/plain": [
       "<Figure size 432x288 with 2 Axes>"
      ]
     },
     "metadata": {
      "needs_background": "light"
     },
     "output_type": "display_data"
    }
   ],
   "source": [
    "import matplotlib.pyplot as plt\n",
    "import seaborn as sns\n",
    "\n",
    "# Plot heatmap of Naive Bayes Confusion matrix\n",
    "class_names = [1, 0]\n",
    "fig, ax = plt.subplots()\n",
    "tick_marks = np.arange(len(class_names))\n",
    "plt.xticks(tick_marks, class_names)\n",
    "plt.yticks(tick_marks, class_names)\n",
    "sns.heatmap(pd.DataFrame(nb_confusion_matrix), annot=True, cmap=\"Oranges\" ,fmt='g')\n",
    "ax.xaxis.set_label_position(\"top\")\n",
    "plt.tight_layout()\n",
    "plt.title('Naive Bayes Confusion matrix', y=1.1)\n",
    "plt.ylabel('Actual label')\n",
    "plt.xlabel('Predicted label')\n",
    "plt.savefig(\"images/nb_confusion.png\")"
   ]
  },
  {
   "cell_type": "markdown",
   "metadata": {},
   "source": [
    "# Random Forest Confusion Matrix Heatmap"
   ]
  },
  {
   "cell_type": "code",
   "execution_count": 39,
   "metadata": {},
   "outputs": [
    {
     "data": {
      "image/png": "[encoded data removed]",
      "text/plain": [
       "<Figure size 432x288 with 2 Axes>"
      ]
     },
     "metadata": {
      "needs_background": "light"
     },
     "output_type": "display_data"
    }
   ],
   "source": [
    "# Plot heatmap of Random Forest Confusion matrix\n",
    "class_names = [1, 0]\n",
    "fig, ax = plt.subplots()\n",
    "tick_marks = np.arange(len(class_names))\n",
    "plt.xticks(tick_marks, class_names)\n",
    "plt.yticks(tick_marks, class_names)\n",
    "sns.heatmap(pd.DataFrame(rf_confusion_matrix), annot=True, cmap=\"Oranges\" ,fmt='g')\n",
    "ax.xaxis.set_label_position(\"top\")\n",
    "plt.tight_layout()\n",
    "plt.title('Random Forest Confusion matrix', y=1.1)\n",
    "plt.ylabel('Actual label')\n",
    "plt.xlabel('Predicted label')\n",
    "plt.savefig(\"images/rf_confusion.png\")"
   ]
  },
  {
   "cell_type": "markdown",
   "metadata": {},
   "source": [
    "# Support Vector Machines Confusion Matrix Heatmap"
   ]
  },
  {
   "cell_type": "code",
   "execution_count": 40,
   "metadata": {},
   "outputs": [
    {
     "data": {
      "image/png": "[encoded data removed]",
      "text/plain": [
       "<Figure size 432x288 with 2 Axes>"
      ]
     },
     "metadata": {
      "needs_background": "light"
     },
     "output_type": "display_data"
    }
   ],
   "source": [
    "# Plot heatmap of Support Vector Confusion matrix\n",
    "class_names = [1, 0]\n",
    "fig, ax = plt.subplots()\n",
    "tick_marks = np.arange(len(class_names))\n",
    "plt.xticks(tick_marks, class_names)\n",
    "plt.yticks(tick_marks, class_names)\n",
    "sns.heatmap(pd.DataFrame(svm_confusion_matrix), annot=True, cmap=\"Oranges\" ,fmt='g')\n",
    "ax.xaxis.set_label_position(\"top\")\n",
    "plt.tight_layout()\n",
    "plt.title('Support Vector Confusion matrix', y=1.1)\n",
    "plt.ylabel('Actual label')\n",
    "plt.xlabel('Predicted label')\n",
    "plt.savefig(\"images/svm_confusion.png\")"
   ]
  }
 ],
 "metadata": {
  "kernelspec": {
   "display_name": "Python 3",
   "language": "python",
   "name": "python3"
  },
  "language_info": {
   "codemirror_mode": {
    "name": "ipython",
    "version": 3
   },
   "file_extension": ".py",
   "mimetype": "text/x-python",
   "name": "python",
   "nbconvert_exporter": "python",
   "pygments_lexer": "ipython3",
   "version": "3.6.7"
  }
 },
 "nbformat": 4,
 "nbformat_minor": 2
}
