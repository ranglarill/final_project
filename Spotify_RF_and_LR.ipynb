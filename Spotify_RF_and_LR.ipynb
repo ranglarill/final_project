{
 "cells": [
  {
   "cell_type": "markdown",
   "metadata": {},
   "source": [
    "# Random Forest Algorithm"
   ]
  },
  {
   "cell_type": "code",
   "execution_count": 86,
   "metadata": {},
   "outputs": [],
   "source": [
    "from sklearn import tree\n",
    "import pandas as pd\n",
    "import os\n",
    "\n",
    "from sklearn.ensemble import RandomForestClassifier"
   ]
  },
  {
   "cell_type": "code",
   "execution_count": 87,
   "metadata": {},
   "outputs": [
    {
     "data": {
      "text/html": [
       "<div>\n",
       "<style scoped>\n",
       "    .dataframe tbody tr th:only-of-type {\n",
       "        vertical-align: middle;\n",
       "    }\n",
       "\n",
       "    .dataframe tbody tr th {\n",
       "        vertical-align: top;\n",
       "    }\n",
       "\n",
       "    .dataframe thead th {\n",
       "        text-align: right;\n",
       "    }\n",
       "</style>\n",
       "<table border=\"1\" class=\"dataframe\">\n",
       "  <thead>\n",
       "    <tr style=\"text-align: right;\">\n",
       "      <th></th>\n",
       "      <th>Unnamed: 0</th>\n",
       "      <th>Spotify_track_id</th>\n",
       "      <th>artist_x</th>\n",
       "      <th>song_x</th>\n",
       "      <th>ID</th>\n",
       "      <th>peak_position</th>\n",
       "      <th>hit</th>\n",
       "      <th>hit_value</th>\n",
       "      <th>acousticness</th>\n",
       "      <th>danceability</th>\n",
       "      <th>...</th>\n",
       "      <th>energy</th>\n",
       "      <th>instrumentalness</th>\n",
       "      <th>key</th>\n",
       "      <th>liveness</th>\n",
       "      <th>loudness</th>\n",
       "      <th>mode</th>\n",
       "      <th>speechiness</th>\n",
       "      <th>tempo</th>\n",
       "      <th>time_signature</th>\n",
       "      <th>valence</th>\n",
       "    </tr>\n",
       "  </thead>\n",
       "  <tbody>\n",
       "    <tr>\n",
       "      <th>0</th>\n",
       "      <td>0</td>\n",
       "      <td>005lwxGU1tms6HGELIcUv9</td>\n",
       "      <td>Katy Perry</td>\n",
       "      <td>I Kissed A Girl</td>\n",
       "      <td>I Kissed A GirlKaty Perry</td>\n",
       "      <td>1.0</td>\n",
       "      <td>Yes</td>\n",
       "      <td>1</td>\n",
       "      <td>0.00223</td>\n",
       "      <td>0.699</td>\n",
       "      <td>...</td>\n",
       "      <td>0.760</td>\n",
       "      <td>0.000000</td>\n",
       "      <td>5</td>\n",
       "      <td>0.1320</td>\n",
       "      <td>-3.173</td>\n",
       "      <td>1</td>\n",
       "      <td>0.0677</td>\n",
       "      <td>129.996</td>\n",
       "      <td>4</td>\n",
       "      <td>0.696</td>\n",
       "    </tr>\n",
       "    <tr>\n",
       "      <th>1</th>\n",
       "      <td>1</td>\n",
       "      <td>745H5CctFr12Mo7cqa1BMH</td>\n",
       "      <td>The Temptations</td>\n",
       "      <td>My Girl</td>\n",
       "      <td>My GirlThe Temptations</td>\n",
       "      <td>1.0</td>\n",
       "      <td>Yes</td>\n",
       "      <td>1</td>\n",
       "      <td>0.63500</td>\n",
       "      <td>0.572</td>\n",
       "      <td>...</td>\n",
       "      <td>0.418</td>\n",
       "      <td>0.000000</td>\n",
       "      <td>0</td>\n",
       "      <td>0.0961</td>\n",
       "      <td>-10.738</td>\n",
       "      <td>1</td>\n",
       "      <td>0.0349</td>\n",
       "      <td>104.566</td>\n",
       "      <td>4</td>\n",
       "      <td>0.694</td>\n",
       "    </tr>\n",
       "    <tr>\n",
       "      <th>2</th>\n",
       "      <td>2</td>\n",
       "      <td>4w2DQnTAbzmduTv0zCT5QD</td>\n",
       "      <td>Olivia Newton-John</td>\n",
       "      <td>I Honestly Love You</td>\n",
       "      <td>I Honestly Love YouOlivia Newton-John</td>\n",
       "      <td>1.0</td>\n",
       "      <td>Yes</td>\n",
       "      <td>1</td>\n",
       "      <td>0.90800</td>\n",
       "      <td>0.361</td>\n",
       "      <td>...</td>\n",
       "      <td>0.265</td>\n",
       "      <td>0.000000</td>\n",
       "      <td>10</td>\n",
       "      <td>0.0696</td>\n",
       "      <td>-9.119</td>\n",
       "      <td>1</td>\n",
       "      <td>0.0321</td>\n",
       "      <td>134.687</td>\n",
       "      <td>4</td>\n",
       "      <td>0.136</td>\n",
       "    </tr>\n",
       "    <tr>\n",
       "      <th>3</th>\n",
       "      <td>3</td>\n",
       "      <td>3CKCZ9pfwAfoMZlMncA1Nc</td>\n",
       "      <td>Adele</td>\n",
       "      <td>Set Fire To The Rain</td>\n",
       "      <td>Set Fire To The RainAdele</td>\n",
       "      <td>1.0</td>\n",
       "      <td>Yes</td>\n",
       "      <td>1</td>\n",
       "      <td>0.00382</td>\n",
       "      <td>0.610</td>\n",
       "      <td>...</td>\n",
       "      <td>0.683</td>\n",
       "      <td>0.000002</td>\n",
       "      <td>2</td>\n",
       "      <td>0.1250</td>\n",
       "      <td>-3.879</td>\n",
       "      <td>0</td>\n",
       "      <td>0.0253</td>\n",
       "      <td>108.003</td>\n",
       "      <td>4</td>\n",
       "      <td>0.466</td>\n",
       "    </tr>\n",
       "    <tr>\n",
       "      <th>4</th>\n",
       "      <td>4</td>\n",
       "      <td>74jZhGv0fdLaf9q8AZZ15k</td>\n",
       "      <td>Carpenters</td>\n",
       "      <td>Please Mr. Postman</td>\n",
       "      <td>Please Mr. PostmanCarpenters</td>\n",
       "      <td>1.0</td>\n",
       "      <td>Yes</td>\n",
       "      <td>1</td>\n",
       "      <td>0.13900</td>\n",
       "      <td>0.664</td>\n",
       "      <td>...</td>\n",
       "      <td>0.547</td>\n",
       "      <td>0.000002</td>\n",
       "      <td>9</td>\n",
       "      <td>0.2390</td>\n",
       "      <td>-11.594</td>\n",
       "      <td>1</td>\n",
       "      <td>0.0281</td>\n",
       "      <td>132.943</td>\n",
       "      <td>4</td>\n",
       "      <td>0.964</td>\n",
       "    </tr>\n",
       "  </tbody>\n",
       "</table>\n",
       "<p>5 rows × 21 columns</p>\n",
       "</div>"
      ],
      "text/plain": [
       "   Unnamed: 0        Spotify_track_id            artist_x  \\\n",
       "0           0  005lwxGU1tms6HGELIcUv9          Katy Perry   \n",
       "1           1  745H5CctFr12Mo7cqa1BMH     The Temptations   \n",
       "2           2  4w2DQnTAbzmduTv0zCT5QD  Olivia Newton-John   \n",
       "3           3  3CKCZ9pfwAfoMZlMncA1Nc               Adele   \n",
       "4           4  74jZhGv0fdLaf9q8AZZ15k          Carpenters   \n",
       "\n",
       "                 song_x                                     ID  peak_position  \\\n",
       "0       I Kissed A Girl              I Kissed A GirlKaty Perry            1.0   \n",
       "1               My Girl                 My GirlThe Temptations            1.0   \n",
       "2   I Honestly Love You  I Honestly Love YouOlivia Newton-John            1.0   \n",
       "3  Set Fire To The Rain              Set Fire To The RainAdele            1.0   \n",
       "4    Please Mr. Postman           Please Mr. PostmanCarpenters            1.0   \n",
       "\n",
       "   hit  hit_value  acousticness  danceability  ...  energy  instrumentalness  \\\n",
       "0  Yes          1       0.00223         0.699  ...   0.760          0.000000   \n",
       "1  Yes          1       0.63500         0.572  ...   0.418          0.000000   \n",
       "2  Yes          1       0.90800         0.361  ...   0.265          0.000000   \n",
       "3  Yes          1       0.00382         0.610  ...   0.683          0.000002   \n",
       "4  Yes          1       0.13900         0.664  ...   0.547          0.000002   \n",
       "\n",
       "   key  liveness  loudness  mode  speechiness    tempo  time_signature  \\\n",
       "0    5    0.1320    -3.173     1       0.0677  129.996               4   \n",
       "1    0    0.0961   -10.738     1       0.0349  104.566               4   \n",
       "2   10    0.0696    -9.119     1       0.0321  134.687               4   \n",
       "3    2    0.1250    -3.879     0       0.0253  108.003               4   \n",
       "4    9    0.2390   -11.594     1       0.0281  132.943               4   \n",
       "\n",
       "   valence  \n",
       "0    0.696  \n",
       "1    0.694  \n",
       "2    0.136  \n",
       "3    0.466  \n",
       "4    0.964  \n",
       "\n",
       "[5 rows x 21 columns]"
      ]
     },
     "execution_count": 87,
     "metadata": {},
     "output_type": "execute_result"
    }
   ],
   "source": [
    "song_features_df = pd.read_csv(\"song_features.csv\")\n",
    "song_features_df.head()"
   ]
  },
  {
   "cell_type": "code",
   "execution_count": 88,
   "metadata": {},
   "outputs": [],
   "source": [
    "song_features_df = song_features_df.drop([\"Unnamed: 0\", \"peak_position\", \"ID\", \"Spotify_track_id\", \"artist_x\", \"song_x\"], axis=1)"
   ]
  },
  {
   "cell_type": "code",
   "execution_count": 89,
   "metadata": {},
   "outputs": [
    {
     "data": {
      "text/html": [
       "<div>\n",
       "<style scoped>\n",
       "    .dataframe tbody tr th:only-of-type {\n",
       "        vertical-align: middle;\n",
       "    }\n",
       "\n",
       "    .dataframe tbody tr th {\n",
       "        vertical-align: top;\n",
       "    }\n",
       "\n",
       "    .dataframe thead th {\n",
       "        text-align: right;\n",
       "    }\n",
       "</style>\n",
       "<table border=\"1\" class=\"dataframe\">\n",
       "  <thead>\n",
       "    <tr style=\"text-align: right;\">\n",
       "      <th></th>\n",
       "      <th>hit</th>\n",
       "      <th>hit_value</th>\n",
       "      <th>acousticness</th>\n",
       "      <th>danceability</th>\n",
       "      <th>duration_ms</th>\n",
       "      <th>energy</th>\n",
       "      <th>instrumentalness</th>\n",
       "      <th>key</th>\n",
       "      <th>liveness</th>\n",
       "      <th>loudness</th>\n",
       "      <th>mode</th>\n",
       "      <th>speechiness</th>\n",
       "      <th>tempo</th>\n",
       "      <th>time_signature</th>\n",
       "      <th>valence</th>\n",
       "    </tr>\n",
       "  </thead>\n",
       "  <tbody>\n",
       "    <tr>\n",
       "      <th>0</th>\n",
       "      <td>Yes</td>\n",
       "      <td>1</td>\n",
       "      <td>0.00223</td>\n",
       "      <td>0.699</td>\n",
       "      <td>179640</td>\n",
       "      <td>0.760</td>\n",
       "      <td>0.000000</td>\n",
       "      <td>5</td>\n",
       "      <td>0.1320</td>\n",
       "      <td>-3.173</td>\n",
       "      <td>1</td>\n",
       "      <td>0.0677</td>\n",
       "      <td>129.996</td>\n",
       "      <td>4</td>\n",
       "      <td>0.696</td>\n",
       "    </tr>\n",
       "    <tr>\n",
       "      <th>1</th>\n",
       "      <td>Yes</td>\n",
       "      <td>1</td>\n",
       "      <td>0.63500</td>\n",
       "      <td>0.572</td>\n",
       "      <td>165000</td>\n",
       "      <td>0.418</td>\n",
       "      <td>0.000000</td>\n",
       "      <td>0</td>\n",
       "      <td>0.0961</td>\n",
       "      <td>-10.738</td>\n",
       "      <td>1</td>\n",
       "      <td>0.0349</td>\n",
       "      <td>104.566</td>\n",
       "      <td>4</td>\n",
       "      <td>0.694</td>\n",
       "    </tr>\n",
       "    <tr>\n",
       "      <th>2</th>\n",
       "      <td>Yes</td>\n",
       "      <td>1</td>\n",
       "      <td>0.90800</td>\n",
       "      <td>0.361</td>\n",
       "      <td>220000</td>\n",
       "      <td>0.265</td>\n",
       "      <td>0.000000</td>\n",
       "      <td>10</td>\n",
       "      <td>0.0696</td>\n",
       "      <td>-9.119</td>\n",
       "      <td>1</td>\n",
       "      <td>0.0321</td>\n",
       "      <td>134.687</td>\n",
       "      <td>4</td>\n",
       "      <td>0.136</td>\n",
       "    </tr>\n",
       "    <tr>\n",
       "      <th>3</th>\n",
       "      <td>Yes</td>\n",
       "      <td>1</td>\n",
       "      <td>0.00382</td>\n",
       "      <td>0.610</td>\n",
       "      <td>241693</td>\n",
       "      <td>0.683</td>\n",
       "      <td>0.000002</td>\n",
       "      <td>2</td>\n",
       "      <td>0.1250</td>\n",
       "      <td>-3.879</td>\n",
       "      <td>0</td>\n",
       "      <td>0.0253</td>\n",
       "      <td>108.003</td>\n",
       "      <td>4</td>\n",
       "      <td>0.466</td>\n",
       "    </tr>\n",
       "    <tr>\n",
       "      <th>4</th>\n",
       "      <td>Yes</td>\n",
       "      <td>1</td>\n",
       "      <td>0.13900</td>\n",
       "      <td>0.664</td>\n",
       "      <td>172733</td>\n",
       "      <td>0.547</td>\n",
       "      <td>0.000002</td>\n",
       "      <td>9</td>\n",
       "      <td>0.2390</td>\n",
       "      <td>-11.594</td>\n",
       "      <td>1</td>\n",
       "      <td>0.0281</td>\n",
       "      <td>132.943</td>\n",
       "      <td>4</td>\n",
       "      <td>0.964</td>\n",
       "    </tr>\n",
       "  </tbody>\n",
       "</table>\n",
       "</div>"
      ],
      "text/plain": [
       "   hit  hit_value  acousticness  danceability  duration_ms  energy  \\\n",
       "0  Yes          1       0.00223         0.699       179640   0.760   \n",
       "1  Yes          1       0.63500         0.572       165000   0.418   \n",
       "2  Yes          1       0.90800         0.361       220000   0.265   \n",
       "3  Yes          1       0.00382         0.610       241693   0.683   \n",
       "4  Yes          1       0.13900         0.664       172733   0.547   \n",
       "\n",
       "   instrumentalness  key  liveness  loudness  mode  speechiness    tempo  \\\n",
       "0          0.000000    5    0.1320    -3.173     1       0.0677  129.996   \n",
       "1          0.000000    0    0.0961   -10.738     1       0.0349  104.566   \n",
       "2          0.000000   10    0.0696    -9.119     1       0.0321  134.687   \n",
       "3          0.000002    2    0.1250    -3.879     0       0.0253  108.003   \n",
       "4          0.000002    9    0.2390   -11.594     1       0.0281  132.943   \n",
       "\n",
       "   time_signature  valence  \n",
       "0               4    0.696  \n",
       "1               4    0.694  \n",
       "2               4    0.136  \n",
       "3               4    0.466  \n",
       "4               4    0.964  "
      ]
     },
     "execution_count": 89,
     "metadata": {},
     "output_type": "execute_result"
    }
   ],
   "source": [
    "song_features_df.head()"
   ]
  },
  {
   "cell_type": "code",
   "execution_count": 90,
   "metadata": {},
   "outputs": [],
   "source": [
    "#setting target and variables to look at \n",
    "target = song_features_df[\"hit\"]\n",
    "target_names = [\"Yes\", \"No\"]"
   ]
  },
  {
   "cell_type": "code",
   "execution_count": 92,
   "metadata": {},
   "outputs": [
    {
     "data": {
      "text/html": [
       "<div>\n",
       "<style scoped>\n",
       "    .dataframe tbody tr th:only-of-type {\n",
       "        vertical-align: middle;\n",
       "    }\n",
       "\n",
       "    .dataframe tbody tr th {\n",
       "        vertical-align: top;\n",
       "    }\n",
       "\n",
       "    .dataframe thead th {\n",
       "        text-align: right;\n",
       "    }\n",
       "</style>\n",
       "<table border=\"1\" class=\"dataframe\">\n",
       "  <thead>\n",
       "    <tr style=\"text-align: right;\">\n",
       "      <th></th>\n",
       "      <th>acousticness</th>\n",
       "      <th>danceability</th>\n",
       "      <th>duration_ms</th>\n",
       "      <th>energy</th>\n",
       "      <th>instrumentalness</th>\n",
       "      <th>key</th>\n",
       "      <th>liveness</th>\n",
       "      <th>loudness</th>\n",
       "      <th>mode</th>\n",
       "      <th>speechiness</th>\n",
       "      <th>tempo</th>\n",
       "      <th>time_signature</th>\n",
       "      <th>valence</th>\n",
       "    </tr>\n",
       "  </thead>\n",
       "  <tbody>\n",
       "    <tr>\n",
       "      <th>0</th>\n",
       "      <td>0.00223</td>\n",
       "      <td>0.699</td>\n",
       "      <td>179640</td>\n",
       "      <td>0.760</td>\n",
       "      <td>0.000000</td>\n",
       "      <td>5</td>\n",
       "      <td>0.1320</td>\n",
       "      <td>-3.173</td>\n",
       "      <td>1</td>\n",
       "      <td>0.0677</td>\n",
       "      <td>129.996</td>\n",
       "      <td>4</td>\n",
       "      <td>0.696</td>\n",
       "    </tr>\n",
       "    <tr>\n",
       "      <th>1</th>\n",
       "      <td>0.63500</td>\n",
       "      <td>0.572</td>\n",
       "      <td>165000</td>\n",
       "      <td>0.418</td>\n",
       "      <td>0.000000</td>\n",
       "      <td>0</td>\n",
       "      <td>0.0961</td>\n",
       "      <td>-10.738</td>\n",
       "      <td>1</td>\n",
       "      <td>0.0349</td>\n",
       "      <td>104.566</td>\n",
       "      <td>4</td>\n",
       "      <td>0.694</td>\n",
       "    </tr>\n",
       "    <tr>\n",
       "      <th>2</th>\n",
       "      <td>0.90800</td>\n",
       "      <td>0.361</td>\n",
       "      <td>220000</td>\n",
       "      <td>0.265</td>\n",
       "      <td>0.000000</td>\n",
       "      <td>10</td>\n",
       "      <td>0.0696</td>\n",
       "      <td>-9.119</td>\n",
       "      <td>1</td>\n",
       "      <td>0.0321</td>\n",
       "      <td>134.687</td>\n",
       "      <td>4</td>\n",
       "      <td>0.136</td>\n",
       "    </tr>\n",
       "    <tr>\n",
       "      <th>3</th>\n",
       "      <td>0.00382</td>\n",
       "      <td>0.610</td>\n",
       "      <td>241693</td>\n",
       "      <td>0.683</td>\n",
       "      <td>0.000002</td>\n",
       "      <td>2</td>\n",
       "      <td>0.1250</td>\n",
       "      <td>-3.879</td>\n",
       "      <td>0</td>\n",
       "      <td>0.0253</td>\n",
       "      <td>108.003</td>\n",
       "      <td>4</td>\n",
       "      <td>0.466</td>\n",
       "    </tr>\n",
       "    <tr>\n",
       "      <th>4</th>\n",
       "      <td>0.13900</td>\n",
       "      <td>0.664</td>\n",
       "      <td>172733</td>\n",
       "      <td>0.547</td>\n",
       "      <td>0.000002</td>\n",
       "      <td>9</td>\n",
       "      <td>0.2390</td>\n",
       "      <td>-11.594</td>\n",
       "      <td>1</td>\n",
       "      <td>0.0281</td>\n",
       "      <td>132.943</td>\n",
       "      <td>4</td>\n",
       "      <td>0.964</td>\n",
       "    </tr>\n",
       "  </tbody>\n",
       "</table>\n",
       "</div>"
      ],
      "text/plain": [
       "   acousticness  danceability  duration_ms  energy  instrumentalness  key  \\\n",
       "0       0.00223         0.699       179640   0.760          0.000000    5   \n",
       "1       0.63500         0.572       165000   0.418          0.000000    0   \n",
       "2       0.90800         0.361       220000   0.265          0.000000   10   \n",
       "3       0.00382         0.610       241693   0.683          0.000002    2   \n",
       "4       0.13900         0.664       172733   0.547          0.000002    9   \n",
       "\n",
       "   liveness  loudness  mode  speechiness    tempo  time_signature  valence  \n",
       "0    0.1320    -3.173     1       0.0677  129.996               4    0.696  \n",
       "1    0.0961   -10.738     1       0.0349  104.566               4    0.694  \n",
       "2    0.0696    -9.119     1       0.0321  134.687               4    0.136  \n",
       "3    0.1250    -3.879     0       0.0253  108.003               4    0.466  \n",
       "4    0.2390   -11.594     1       0.0281  132.943               4    0.964  "
      ]
     },
     "execution_count": 92,
     "metadata": {},
     "output_type": "execute_result"
    }
   ],
   "source": [
    "#setting our data source by dropping the \n",
    "data = song_features_df.drop([\"hit\",\"hit_value\"], axis=1)\n",
    "feature_names = data.columns\n",
    "data.head()"
   ]
  },
  {
   "cell_type": "code",
   "execution_count": 93,
   "metadata": {},
   "outputs": [],
   "source": [
    "from sklearn.model_selection import train_test_split\n",
    "X_train, X_test, y_train, y_test = train_test_split(data, target, random_state=42)"
   ]
  },
  {
   "cell_type": "code",
   "execution_count": 95,
   "metadata": {},
   "outputs": [
    {
     "data": {
      "text/plain": [
       "0.623718887262079"
      ]
     },
     "execution_count": 95,
     "metadata": {},
     "output_type": "execute_result"
    }
   ],
   "source": [
    "from sklearn.ensemble import RandomForestClassifier\n",
    "rf = RandomForestClassifier(n_estimators=300)\n",
    "results = rf.fit(X_train, y_train).predict(X_test)\n",
    "rf.score(X_test, y_test)"
   ]
  },
  {
   "cell_type": "code",
   "execution_count": 96,
   "metadata": {},
   "outputs": [
    {
     "data": {
      "text/plain": [
       "[(0.10440558195533123, 'danceability'),\n",
       " (0.09914323940024039, 'acousticness'),\n",
       " (0.09493092493919442, 'loudness'),\n",
       " (0.09421283278994443, 'energy'),\n",
       " (0.09322603979775346, 'duration_ms'),\n",
       " (0.09290977659420903, 'speechiness'),\n",
       " (0.09220576912495085, 'valence'),\n",
       " (0.08940337575154167, 'tempo'),\n",
       " (0.08662302341887405, 'liveness'),\n",
       " (0.08389861573055835, 'instrumentalness'),\n",
       " (0.050225782543845174, 'key'),\n",
       " (0.010799493733266328, 'mode'),\n",
       " (0.008015544220290728, 'time_signature')]"
      ]
     },
     "execution_count": 96,
     "metadata": {},
     "output_type": "execute_result"
    }
   ],
   "source": [
    "sorted(zip(rf.feature_importances_, feature_names), reverse=True)"
   ]
  },
  {
   "cell_type": "code",
   "execution_count": 97,
   "metadata": {},
   "outputs": [],
   "source": [
    "#results = rf.predict(X_test)\n",
    "#results"
   ]
  },
  {
   "cell_type": "code",
   "execution_count": 110,
   "metadata": {},
   "outputs": [],
   "source": [
    "new_df = pd.DataFrame({\"prediction\": results, \"actual\":y_test })\n",
    "\n"
   ]
  },
  {
   "cell_type": "code",
   "execution_count": null,
   "metadata": {},
   "outputs": [],
   "source": []
  },
  {
   "cell_type": "code",
   "execution_count": 112,
   "metadata": {},
   "outputs": [
    {
     "data": {
      "text/html": [
       "<div>\n",
       "<style scoped>\n",
       "    .dataframe tbody tr th:only-of-type {\n",
       "        vertical-align: middle;\n",
       "    }\n",
       "\n",
       "    .dataframe tbody tr th {\n",
       "        vertical-align: top;\n",
       "    }\n",
       "\n",
       "    .dataframe thead th {\n",
       "        text-align: right;\n",
       "    }\n",
       "</style>\n",
       "<table border=\"1\" class=\"dataframe\">\n",
       "  <thead>\n",
       "    <tr style=\"text-align: right;\">\n",
       "      <th></th>\n",
       "      <th>prediction</th>\n",
       "      <th>actual</th>\n",
       "    </tr>\n",
       "  </thead>\n",
       "  <tbody>\n",
       "    <tr>\n",
       "      <th>625</th>\n",
       "      <td>Yes</td>\n",
       "      <td>Yes</td>\n",
       "    </tr>\n",
       "    <tr>\n",
       "      <th>3614</th>\n",
       "      <td>No</td>\n",
       "      <td>No</td>\n",
       "    </tr>\n",
       "    <tr>\n",
       "      <th>33</th>\n",
       "      <td>Yes</td>\n",
       "      <td>Yes</td>\n",
       "    </tr>\n",
       "    <tr>\n",
       "      <th>3207</th>\n",
       "      <td>Yes</td>\n",
       "      <td>No</td>\n",
       "    </tr>\n",
       "    <tr>\n",
       "      <th>439</th>\n",
       "      <td>Yes</td>\n",
       "      <td>Yes</td>\n",
       "    </tr>\n",
       "  </tbody>\n",
       "</table>\n",
       "</div>"
      ],
      "text/plain": [
       "     prediction actual\n",
       "625         Yes    Yes\n",
       "3614         No     No\n",
       "33          Yes    Yes\n",
       "3207        Yes     No\n",
       "439         Yes    Yes"
      ]
     },
     "execution_count": 112,
     "metadata": {},
     "output_type": "execute_result"
    }
   ],
   "source": [
    "new_df.head()"
   ]
  },
  {
   "cell_type": "code",
   "execution_count": 113,
   "metadata": {},
   "outputs": [],
   "source": [
    "from matplotlib import pyplot as plt\n",
    "\n",
    "plt.scatter()"
   ]
  },
  {
   "cell_type": "code",
   "execution_count": 100,
   "metadata": {},
   "outputs": [
    {
     "name": "stdout",
     "output_type": "stream",
     "text": [
      "              precision    recall  f1-score   support\n",
      "\n",
      "         Yes       0.60      0.60      0.60       647\n",
      "          No       0.64      0.65      0.64       719\n",
      "\n",
      "    accuracy                           0.62      1366\n",
      "   macro avg       0.62      0.62      0.62      1366\n",
      "weighted avg       0.62      0.62      0.62      1366\n",
      "\n"
     ]
    }
   ],
   "source": [
    "# Calculate classification report\n",
    "from sklearn.metrics import classification_report\n",
    "predictions = rf.predict(X_test)\n",
    "print(classification_report(y_test, predictions,\n",
    "                           target_names=target_names))"
   ]
  },
  {
   "cell_type": "code",
   "execution_count": 49,
   "metadata": {},
   "outputs": [],
   "source": [
    "#sns.pairplot(data)"
   ]
  },
  {
   "cell_type": "markdown",
   "metadata": {},
   "source": [
    "# Logistic Regression\n"
   ]
  },
  {
   "cell_type": "code",
   "execution_count": 101,
   "metadata": {},
   "outputs": [],
   "source": [
    "#setting new targets for logistic regression\n",
    "target1 = song_features_df[\"hit_value\"]\n",
    "target_names1 = [1, 0]"
   ]
  },
  {
   "cell_type": "code",
   "execution_count": 102,
   "metadata": {},
   "outputs": [
    {
     "data": {
      "text/plain": [
       "LogisticRegression(C=1.0, class_weight=None, dual=False, fit_intercept=True,\n",
       "                   intercept_scaling=1, l1_ratio=None, max_iter=100,\n",
       "                   multi_class='warn', n_jobs=None, penalty='l2',\n",
       "                   random_state=None, solver='warn', tol=0.0001, verbose=0,\n",
       "                   warm_start=False)"
      ]
     },
     "execution_count": 102,
     "metadata": {},
     "output_type": "execute_result"
    }
   ],
   "source": [
    "from sklearn.linear_model import LogisticRegression\n",
    "classifier = LogisticRegression()\n",
    "classifier"
   ]
  },
  {
   "cell_type": "code",
   "execution_count": 103,
   "metadata": {},
   "outputs": [],
   "source": [
    "from sklearn.model_selection import train_test_split\n",
    "X_train, X_test, y_train_1, y_test_1 = train_test_split(data, target1, random_state=42)"
   ]
  },
  {
   "cell_type": "code",
   "execution_count": 104,
   "metadata": {},
   "outputs": [],
   "source": [
    "y_train_1 = y_train_1.values.reshape(-1, 1)\n",
    "y_test_1 = y_test_1.values.reshape(-1, 1)\n",
    "from sklearn.preprocessing import StandardScaler\n",
    "X_scaler = StandardScaler().fit(X_train)\n",
    "y_scaler = StandardScaler().fit(y_train_1)\n",
    "\n",
    "\n",
    "X_train_scaled = X_scaler.transform(X_train)\n",
    "X_test_scaled = X_scaler.transform(X_test)\n",
    "y_train_scaled = y_scaler.transform(y_train_1)\n",
    "y_test_scaled = y_scaler.transform(y_test_1)"
   ]
  },
  {
   "cell_type": "code",
   "execution_count": 105,
   "metadata": {},
   "outputs": [
    {
     "name": "stderr",
     "output_type": "stream",
     "text": [
      "/anaconda3/envs/PythonData3/lib/python3.7/site-packages/sklearn/linear_model/logistic.py:432: FutureWarning: Default solver will be changed to 'lbfgs' in 0.22. Specify a solver to silence this warning.\n",
      "  FutureWarning)\n",
      "/anaconda3/envs/PythonData3/lib/python3.7/site-packages/sklearn/utils/validation.py:724: DataConversionWarning: A column-vector y was passed when a 1d array was expected. Please change the shape of y to (n_samples, ), for example using ravel().\n",
      "  y = column_or_1d(y, warn=True)\n"
     ]
    },
    {
     "data": {
      "text/plain": [
       "LogisticRegression(C=1.0, class_weight=None, dual=False, fit_intercept=True,\n",
       "                   intercept_scaling=1, l1_ratio=None, max_iter=100,\n",
       "                   multi_class='warn', n_jobs=None, penalty='l2',\n",
       "                   random_state=None, solver='warn', tol=0.0001, verbose=0,\n",
       "                   warm_start=False)"
      ]
     },
     "execution_count": 105,
     "metadata": {},
     "output_type": "execute_result"
    }
   ],
   "source": [
    "classifier.fit(X_train, y_train_1)"
   ]
  },
  {
   "cell_type": "code",
   "execution_count": 106,
   "metadata": {},
   "outputs": [
    {
     "name": "stdout",
     "output_type": "stream",
     "text": [
      "Training Data Score: 0.539306640625\n",
      "Testing Data Score: 0.5263543191800878\n"
     ]
    }
   ],
   "source": [
    "print(f\"Training Data Score: {classifier.score(X_train, y_train_1)}\")\n",
    "print(f\"Testing Data Score: {classifier.score(X_test, y_test_1)}\")"
   ]
  },
  {
   "cell_type": "code",
   "execution_count": 107,
   "metadata": {},
   "outputs": [
    {
     "ename": "TypeError",
     "evalue": "object of type 'int' has no len()",
     "output_type": "error",
     "traceback": [
      "\u001b[0;31m---------------------------------------------------------------------------\u001b[0m",
      "\u001b[0;31mTypeError\u001b[0m                                 Traceback (most recent call last)",
      "\u001b[0;32m<ipython-input-107-4ff623562204>\u001b[0m in \u001b[0;36m<module>\u001b[0;34m\u001b[0m\n\u001b[1;32m      3\u001b[0m \u001b[0mpredictions\u001b[0m \u001b[0;34m=\u001b[0m \u001b[0mclassifier\u001b[0m\u001b[0;34m.\u001b[0m\u001b[0mpredict\u001b[0m\u001b[0;34m(\u001b[0m\u001b[0mX_test\u001b[0m\u001b[0;34m)\u001b[0m\u001b[0;34m\u001b[0m\u001b[0;34m\u001b[0m\u001b[0m\n\u001b[1;32m      4\u001b[0m print(classification_report(y_test_1, predictions,\n\u001b[0;32m----> 5\u001b[0;31m                            target_names=target_names1))\n\u001b[0m",
      "\u001b[0;32m/anaconda3/envs/PythonData3/lib/python3.7/site-packages/sklearn/metrics/classification.py\u001b[0m in \u001b[0;36mclassification_report\u001b[0;34m(y_true, y_pred, labels, target_names, sample_weight, digits, output_dict)\u001b[0m\n\u001b[1;32m   1899\u001b[0m     \u001b[0;32melse\u001b[0m\u001b[0;34m:\u001b[0m\u001b[0;34m\u001b[0m\u001b[0;34m\u001b[0m\u001b[0m\n\u001b[1;32m   1900\u001b[0m         \u001b[0mlongest_last_line_heading\u001b[0m \u001b[0;34m=\u001b[0m \u001b[0;34m'weighted avg'\u001b[0m\u001b[0;34m\u001b[0m\u001b[0;34m\u001b[0m\u001b[0m\n\u001b[0;32m-> 1901\u001b[0;31m         \u001b[0mname_width\u001b[0m \u001b[0;34m=\u001b[0m \u001b[0mmax\u001b[0m\u001b[0;34m(\u001b[0m\u001b[0mlen\u001b[0m\u001b[0;34m(\u001b[0m\u001b[0mcn\u001b[0m\u001b[0;34m)\u001b[0m \u001b[0;32mfor\u001b[0m \u001b[0mcn\u001b[0m \u001b[0;32min\u001b[0m \u001b[0mtarget_names\u001b[0m\u001b[0;34m)\u001b[0m\u001b[0;34m\u001b[0m\u001b[0;34m\u001b[0m\u001b[0m\n\u001b[0m\u001b[1;32m   1902\u001b[0m         \u001b[0mwidth\u001b[0m \u001b[0;34m=\u001b[0m \u001b[0mmax\u001b[0m\u001b[0;34m(\u001b[0m\u001b[0mname_width\u001b[0m\u001b[0;34m,\u001b[0m \u001b[0mlen\u001b[0m\u001b[0;34m(\u001b[0m\u001b[0mlongest_last_line_heading\u001b[0m\u001b[0;34m)\u001b[0m\u001b[0;34m,\u001b[0m \u001b[0mdigits\u001b[0m\u001b[0;34m)\u001b[0m\u001b[0;34m\u001b[0m\u001b[0;34m\u001b[0m\u001b[0m\n\u001b[1;32m   1903\u001b[0m         \u001b[0mhead_fmt\u001b[0m \u001b[0;34m=\u001b[0m \u001b[0;34m'{:>{width}s} '\u001b[0m \u001b[0;34m+\u001b[0m \u001b[0;34m' {:>9}'\u001b[0m \u001b[0;34m*\u001b[0m \u001b[0mlen\u001b[0m\u001b[0;34m(\u001b[0m\u001b[0mheaders\u001b[0m\u001b[0;34m)\u001b[0m\u001b[0;34m\u001b[0m\u001b[0;34m\u001b[0m\u001b[0m\n",
      "\u001b[0;32m/anaconda3/envs/PythonData3/lib/python3.7/site-packages/sklearn/metrics/classification.py\u001b[0m in \u001b[0;36m<genexpr>\u001b[0;34m(.0)\u001b[0m\n\u001b[1;32m   1899\u001b[0m     \u001b[0;32melse\u001b[0m\u001b[0;34m:\u001b[0m\u001b[0;34m\u001b[0m\u001b[0;34m\u001b[0m\u001b[0m\n\u001b[1;32m   1900\u001b[0m         \u001b[0mlongest_last_line_heading\u001b[0m \u001b[0;34m=\u001b[0m \u001b[0;34m'weighted avg'\u001b[0m\u001b[0;34m\u001b[0m\u001b[0;34m\u001b[0m\u001b[0m\n\u001b[0;32m-> 1901\u001b[0;31m         \u001b[0mname_width\u001b[0m \u001b[0;34m=\u001b[0m \u001b[0mmax\u001b[0m\u001b[0;34m(\u001b[0m\u001b[0mlen\u001b[0m\u001b[0;34m(\u001b[0m\u001b[0mcn\u001b[0m\u001b[0;34m)\u001b[0m \u001b[0;32mfor\u001b[0m \u001b[0mcn\u001b[0m \u001b[0;32min\u001b[0m \u001b[0mtarget_names\u001b[0m\u001b[0;34m)\u001b[0m\u001b[0;34m\u001b[0m\u001b[0;34m\u001b[0m\u001b[0m\n\u001b[0m\u001b[1;32m   1902\u001b[0m         \u001b[0mwidth\u001b[0m \u001b[0;34m=\u001b[0m \u001b[0mmax\u001b[0m\u001b[0;34m(\u001b[0m\u001b[0mname_width\u001b[0m\u001b[0;34m,\u001b[0m \u001b[0mlen\u001b[0m\u001b[0;34m(\u001b[0m\u001b[0mlongest_last_line_heading\u001b[0m\u001b[0;34m)\u001b[0m\u001b[0;34m,\u001b[0m \u001b[0mdigits\u001b[0m\u001b[0;34m)\u001b[0m\u001b[0;34m\u001b[0m\u001b[0;34m\u001b[0m\u001b[0m\n\u001b[1;32m   1903\u001b[0m         \u001b[0mhead_fmt\u001b[0m \u001b[0;34m=\u001b[0m \u001b[0;34m'{:>{width}s} '\u001b[0m \u001b[0;34m+\u001b[0m \u001b[0;34m' {:>9}'\u001b[0m \u001b[0;34m*\u001b[0m \u001b[0mlen\u001b[0m\u001b[0;34m(\u001b[0m\u001b[0mheaders\u001b[0m\u001b[0;34m)\u001b[0m\u001b[0;34m\u001b[0m\u001b[0;34m\u001b[0m\u001b[0m\n",
      "\u001b[0;31mTypeError\u001b[0m: object of type 'int' has no len()"
     ]
    }
   ],
   "source": [
    "# Calculate classification report\n",
    "from sklearn.metrics import classification_report\n",
    "predictions = classifier.predict(X_test)\n",
    "print(classification_report(y_test_1, predictions,\n",
    "                           target_names=target_names1))"
   ]
  },
  {
   "cell_type": "code",
   "execution_count": null,
   "metadata": {},
   "outputs": [],
   "source": []
  }
 ],
 "metadata": {
  "kernelspec": {
   "display_name": "Python 3",
   "language": "python",
   "name": "python3"
  },
  "language_info": {
   "codemirror_mode": {
    "name": "ipython",
    "version": 3
   },
   "file_extension": ".py",
   "mimetype": "text/x-python",
   "name": "python",
   "nbconvert_exporter": "python",
   "pygments_lexer": "ipython3",
   "version": "3.7.1"
  }
 },
 "nbformat": 4,
 "nbformat_minor": 2
}
